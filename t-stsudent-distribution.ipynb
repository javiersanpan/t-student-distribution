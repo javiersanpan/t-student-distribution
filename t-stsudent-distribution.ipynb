{
 "cells": [
  {
   "cell_type": "markdown",
   "id": "6b0a915c-8fde-4c24-8c8e-a8e125dee81b",
   "metadata": {},
   "source": [
    "T student distribution\n",
    "\n",
    "Author: Francisco Javier Sánchez Panduro\n",
    "Supervised by: Professor Doctor Brenda García Maya\n",
    "Monterrey Institute of Tecnology and Higher Studies\n",
    "23 of August 2023"
   ]
  },
  {
   "cell_type": "code",
   "execution_count": 2,
   "id": "b660e78b-50e8-4b73-8552-d7e316928ee3",
   "metadata": {},
   "outputs": [],
   "source": [
    "import pandas as pd\n",
    "import matplotlib.pyplot as plt\n",
    "import scipy.stats as stats\n",
    "import statsmodels.api as sm"
   ]
  },
  {
   "cell_type": "markdown",
   "id": "2d565951-0df7-4140-841f-70813a4956eb",
   "metadata": {},
   "source": [
    "A nutritionist is investigated the amount of vitamin C in two types of orange juice. They took random samples of each juice and registered the average levels of vitamin c content in milligrams per 100 ml."
   ]
  },
  {
   "cell_type": "markdown",
   "id": "c947412a-d943-45bc-a147-2ed987c430a5",
   "metadata": {},
   "source": [
    "# Data preparation"
   ]
  },
  {
   "cell_type": "code",
   "execution_count": 3,
   "id": "99761049-0fa1-45f7-8d44-f067532dd97e",
   "metadata": {},
   "outputs": [
    {
     "data": {
      "text/html": [
       "<div>\n",
       "<style scoped>\n",
       "    .dataframe tbody tr th:only-of-type {\n",
       "        vertical-align: middle;\n",
       "    }\n",
       "\n",
       "    .dataframe tbody tr th {\n",
       "        vertical-align: top;\n",
       "    }\n",
       "\n",
       "    .dataframe thead th {\n",
       "        text-align: right;\n",
       "    }\n",
       "</style>\n",
       "<table border=\"1\" class=\"dataframe\">\n",
       "  <thead>\n",
       "    <tr style=\"text-align: right;\">\n",
       "      <th></th>\n",
       "      <th>Jugo_A</th>\n",
       "      <th>Jugo_B</th>\n",
       "    </tr>\n",
       "  </thead>\n",
       "  <tbody>\n",
       "    <tr>\n",
       "      <th>0</th>\n",
       "      <td>20</td>\n",
       "      <td>19</td>\n",
       "    </tr>\n",
       "    <tr>\n",
       "      <th>1</th>\n",
       "      <td>25</td>\n",
       "      <td>18</td>\n",
       "    </tr>\n",
       "    <tr>\n",
       "      <th>2</th>\n",
       "      <td>22</td>\n",
       "      <td>21</td>\n",
       "    </tr>\n",
       "    <tr>\n",
       "      <th>3</th>\n",
       "      <td>23</td>\n",
       "      <td>20</td>\n",
       "    </tr>\n",
       "    <tr>\n",
       "      <th>4</th>\n",
       "      <td>28</td>\n",
       "      <td>23</td>\n",
       "    </tr>\n",
       "  </tbody>\n",
       "</table>\n",
       "</div>"
      ],
      "text/plain": [
       "   Jugo_A  Jugo_B\n",
       "0      20      19\n",
       "1      25      18\n",
       "2      22      21\n",
       "3      23      20\n",
       "4      28      23"
      ]
     },
     "execution_count": 3,
     "metadata": {},
     "output_type": "execute_result"
    }
   ],
   "source": [
    "data = {\n",
    "    'juice_a': [20, 25, 22, 23, 28, 26, 24, 21, 27, 25, 24, 22, 23, 26, 25, 23, 24, 22, 27, 26, 25, 24, 23, 22, 21, 26, 24, 25, 22, 23],\n",
    "    'juice_b': [19, 18, 21, 20, 23, 22, 20, 19, 22, 21, 20, 19, 18, 23, 22, 21, 20, 19, 23, 22, 21, 20, 19, 18, 23, 22, 21, 20, 19, 18]\n",
    "}\n",
    "df = pd.DataFrame(data)\n",
    "df.head()"
   ]
  },
  {
   "cell_type": "markdown",
   "id": "44a1569a-3b57-42bf-a160-2c94a3dd515f",
   "metadata": {},
   "source": [
    "Calculate a confidence interval of 99% for the poblational mean of the content of vitamin C of both juicies"
   ]
  },
  {
   "cell_type": "markdown",
   "id": "96d851ff-7388-4b76-b17c-29ada9ebe0af",
   "metadata": {},
   "source": [
    "# QQ-Plot\n"
   ]
  }
 ],
 "metadata": {
  "kernelspec": {
   "display_name": "Python 3 (ipykernel)",
   "language": "python",
   "name": "python3"
  },
  "language_info": {
   "codemirror_mode": {
    "name": "ipython",
    "version": 3
   },
   "file_extension": ".py",
   "mimetype": "text/x-python",
   "name": "python",
   "nbconvert_exporter": "python",
   "pygments_lexer": "ipython3",
   "version": "3.11.4"
  }
 },
 "nbformat": 4,
 "nbformat_minor": 5
}
